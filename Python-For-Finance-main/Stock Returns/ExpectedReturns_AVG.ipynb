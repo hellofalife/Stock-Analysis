{
 "cells": [
  {
   "cell_type": "code",
   "execution_count": 1,
   "id": "3211dbfc-7f04-4446-89d0-d727510279c2",
   "metadata": {},
   "outputs": [
    {
     "name": "stdout",
     "output_type": "stream",
     "text": [
      "[*********************100%***********************]  1 of 1 completed\n"
     ]
    },
    {
     "data": {
      "text/html": [
       "<div>\n",
       "<style scoped>\n",
       "    .dataframe tbody tr th:only-of-type {\n",
       "        vertical-align: middle;\n",
       "    }\n",
       "\n",
       "    .dataframe tbody tr th {\n",
       "        vertical-align: top;\n",
       "    }\n",
       "\n",
       "    .dataframe thead th {\n",
       "        text-align: right;\n",
       "    }\n",
       "</style>\n",
       "<table border=\"1\" class=\"dataframe\">\n",
       "  <thead>\n",
       "    <tr style=\"text-align: right;\">\n",
       "      <th></th>\n",
       "      <th>Open</th>\n",
       "      <th>High</th>\n",
       "      <th>Low</th>\n",
       "      <th>Close</th>\n",
       "      <th>Adj Close</th>\n",
       "      <th>Volume</th>\n",
       "    </tr>\n",
       "    <tr>\n",
       "      <th>Date</th>\n",
       "      <th></th>\n",
       "      <th></th>\n",
       "      <th></th>\n",
       "      <th></th>\n",
       "      <th></th>\n",
       "      <th></th>\n",
       "    </tr>\n",
       "  </thead>\n",
       "  <tbody>\n",
       "    <tr>\n",
       "      <th>2022-01-03</th>\n",
       "      <td>335.350006</td>\n",
       "      <td>338.000000</td>\n",
       "      <td>329.779999</td>\n",
       "      <td>334.750000</td>\n",
       "      <td>331.642426</td>\n",
       "      <td>28865100</td>\n",
       "    </tr>\n",
       "    <tr>\n",
       "      <th>2022-01-04</th>\n",
       "      <td>334.829987</td>\n",
       "      <td>335.200012</td>\n",
       "      <td>326.119995</td>\n",
       "      <td>329.010010</td>\n",
       "      <td>325.955750</td>\n",
       "      <td>32674300</td>\n",
       "    </tr>\n",
       "    <tr>\n",
       "      <th>2022-01-05</th>\n",
       "      <td>325.859985</td>\n",
       "      <td>326.070007</td>\n",
       "      <td>315.980011</td>\n",
       "      <td>316.380005</td>\n",
       "      <td>313.442993</td>\n",
       "      <td>40054300</td>\n",
       "    </tr>\n",
       "    <tr>\n",
       "      <th>2022-01-06</th>\n",
       "      <td>313.149994</td>\n",
       "      <td>318.700012</td>\n",
       "      <td>311.489990</td>\n",
       "      <td>313.880005</td>\n",
       "      <td>310.966217</td>\n",
       "      <td>39646100</td>\n",
       "    </tr>\n",
       "    <tr>\n",
       "      <th>2022-01-07</th>\n",
       "      <td>314.149994</td>\n",
       "      <td>316.500000</td>\n",
       "      <td>310.089996</td>\n",
       "      <td>314.040009</td>\n",
       "      <td>311.124725</td>\n",
       "      <td>32720000</td>\n",
       "    </tr>\n",
       "  </tbody>\n",
       "</table>\n",
       "</div>"
      ],
      "text/plain": [
       "                  Open        High         Low       Close   Adj Close  \\\n",
       "Date                                                                     \n",
       "2022-01-03  335.350006  338.000000  329.779999  334.750000  331.642426   \n",
       "2022-01-04  334.829987  335.200012  326.119995  329.010010  325.955750   \n",
       "2022-01-05  325.859985  326.070007  315.980011  316.380005  313.442993   \n",
       "2022-01-06  313.149994  318.700012  311.489990  313.880005  310.966217   \n",
       "2022-01-07  314.149994  316.500000  310.089996  314.040009  311.124725   \n",
       "\n",
       "              Volume  \n",
       "Date                  \n",
       "2022-01-03  28865100  \n",
       "2022-01-04  32674300  \n",
       "2022-01-05  40054300  \n",
       "2022-01-06  39646100  \n",
       "2022-01-07  32720000  "
      ]
     },
     "execution_count": 1,
     "metadata": {},
     "output_type": "execute_result"
    }
   ],
   "source": [
    "import warnings\n",
    "warnings.filterwarnings('ignore')\n",
    "\n",
    "import pandas as pd\n",
    "import matplotlib.pyplot as plt\n",
    "import yfinance as yf\n",
    "\n",
    "ticker = \"MSFT\"\n",
    "df = yf.download(ticker, start=\"2022-01-02\", end=\"2022-12-31\")\n",
    "df.head()"
   ]
  },
  {
   "cell_type": "code",
   "execution_count": 2,
   "id": "0f98ff46-26b8-4b94-8e1d-9dd7ce5d7313",
   "metadata": {},
   "outputs": [
    {
     "data": {
      "text/html": [
       "<div>\n",
       "<style scoped>\n",
       "    .dataframe tbody tr th:only-of-type {\n",
       "        vertical-align: middle;\n",
       "    }\n",
       "\n",
       "    .dataframe tbody tr th {\n",
       "        vertical-align: top;\n",
       "    }\n",
       "\n",
       "    .dataframe thead th {\n",
       "        text-align: right;\n",
       "    }\n",
       "</style>\n",
       "<table border=\"1\" class=\"dataframe\">\n",
       "  <thead>\n",
       "    <tr style=\"text-align: right;\">\n",
       "      <th></th>\n",
       "      <th>Adj Close</th>\n",
       "      <th>Daily Return</th>\n",
       "    </tr>\n",
       "    <tr>\n",
       "      <th>Date</th>\n",
       "      <th></th>\n",
       "      <th></th>\n",
       "    </tr>\n",
       "  </thead>\n",
       "  <tbody>\n",
       "    <tr>\n",
       "      <th>2022-01-03</th>\n",
       "      <td>331.642426</td>\n",
       "      <td>NaN</td>\n",
       "    </tr>\n",
       "    <tr>\n",
       "      <th>2022-01-04</th>\n",
       "      <td>325.955750</td>\n",
       "      <td>-0.017147</td>\n",
       "    </tr>\n",
       "    <tr>\n",
       "      <th>2022-01-05</th>\n",
       "      <td>313.442993</td>\n",
       "      <td>-0.038388</td>\n",
       "    </tr>\n",
       "    <tr>\n",
       "      <th>2022-01-06</th>\n",
       "      <td>310.966217</td>\n",
       "      <td>-0.007902</td>\n",
       "    </tr>\n",
       "    <tr>\n",
       "      <th>2022-01-07</th>\n",
       "      <td>311.124725</td>\n",
       "      <td>0.000510</td>\n",
       "    </tr>\n",
       "    <tr>\n",
       "      <th>...</th>\n",
       "      <td>...</td>\n",
       "      <td>...</td>\n",
       "    </tr>\n",
       "    <tr>\n",
       "      <th>2022-12-23</th>\n",
       "      <td>238.729996</td>\n",
       "      <td>0.002267</td>\n",
       "    </tr>\n",
       "    <tr>\n",
       "      <th>2022-12-27</th>\n",
       "      <td>236.960007</td>\n",
       "      <td>-0.007414</td>\n",
       "    </tr>\n",
       "    <tr>\n",
       "      <th>2022-12-28</th>\n",
       "      <td>234.529999</td>\n",
       "      <td>-0.010255</td>\n",
       "    </tr>\n",
       "    <tr>\n",
       "      <th>2022-12-29</th>\n",
       "      <td>241.009995</td>\n",
       "      <td>0.027630</td>\n",
       "    </tr>\n",
       "    <tr>\n",
       "      <th>2022-12-30</th>\n",
       "      <td>239.820007</td>\n",
       "      <td>-0.004938</td>\n",
       "    </tr>\n",
       "  </tbody>\n",
       "</table>\n",
       "<p>251 rows × 2 columns</p>\n",
       "</div>"
      ],
      "text/plain": [
       "             Adj Close  Daily Return\n",
       "Date                                \n",
       "2022-01-03  331.642426           NaN\n",
       "2022-01-04  325.955750     -0.017147\n",
       "2022-01-05  313.442993     -0.038388\n",
       "2022-01-06  310.966217     -0.007902\n",
       "2022-01-07  311.124725      0.000510\n",
       "...                ...           ...\n",
       "2022-12-23  238.729996      0.002267\n",
       "2022-12-27  236.960007     -0.007414\n",
       "2022-12-28  234.529999     -0.010255\n",
       "2022-12-29  241.009995      0.027630\n",
       "2022-12-30  239.820007     -0.004938\n",
       "\n",
       "[251 rows x 2 columns]"
      ]
     },
     "execution_count": 2,
     "metadata": {},
     "output_type": "execute_result"
    }
   ],
   "source": [
    "df_filter = df[[\"Adj Close\"]]\n",
    "df_filter[\"Daily Return\"] = df[[\"Adj Close\"]].pct_change()\n",
    "df_filter"
   ]
  },
  {
   "cell_type": "code",
   "execution_count": 3,
   "id": "54d6346c-16a9-4591-9df3-d2f877865f2e",
   "metadata": {},
   "outputs": [
    {
     "name": "stdout",
     "output_type": "stream",
     "text": [
      "Average of Daily Return(%): -0.1049\n"
     ]
    }
   ],
   "source": [
    "daily_return_mean = df_filter[\"Daily Return\"].mean()\n",
    "print(\"Average of Daily Return(%%): %.4f\" % (daily_return_mean * 100))"
   ]
  },
  {
   "cell_type": "code",
   "execution_count": 4,
   "id": "90495948-4173-4b02-afc3-78bf66f0b457",
   "metadata": {},
   "outputs": [
    {
     "name": "stdout",
     "output_type": "stream",
     "text": [
      "Annualized Average Return(%): -26.2126\n"
     ]
    }
   ],
   "source": [
    "annual_return_mean = daily_return_mean * 250\n",
    "print(\"Annualized Average Return(%%): %.4f\" % (annual_return_mean * 100))"
   ]
  },
  {
   "cell_type": "code",
   "execution_count": 5,
   "id": "8a428fa2-ee03-4573-a431-9aa95167bbd2",
   "metadata": {},
   "outputs": [
    {
     "name": "stdout",
     "output_type": "stream",
     "text": [
      "Annualized Average Return(%): -23.0692\n"
     ]
    }
   ],
   "source": [
    "annual_return_mean = (1 + daily_return_mean)**250 - 1\n",
    "print(\"Annualized Average Return(%%): %.4f\" % (annual_return_mean * 100))"
   ]
  },
  {
   "cell_type": "code",
   "execution_count": 6,
   "id": "08c6f912-c9c3-4c8d-bf29-7421b0587515",
   "metadata": {},
   "outputs": [
    {
     "data": {
      "text/plain": [
       "<AxesSubplot:xlabel='Date'>"
      ]
     },
     "execution_count": 6,
     "metadata": {},
     "output_type": "execute_result"
    },
    {
     "data": {
      "image/png": "[encoded data removed]",
      "text/plain": [
       "<Figure size 432x288 with 1 Axes>"
      ]
     },
     "metadata": {
      "needs_background": "light"
     },
     "output_type": "display_data"
    }
   ],
   "source": [
    "df_filter[\"Adj Close\"].plot()"
   ]
  }
 ],
 "metadata": {
  "kernelspec": {
   "display_name": "Python 3 (ipykernel)",
   "language": "python",
   "name": "python3"
  },
  "language_info": {
   "codemirror_mode": {
    "name": "ipython",
    "version": 3
   },
   "file_extension": ".py",
   "mimetype": "text/x-python",
   "name": "python",
   "nbconvert_exporter": "python",
   "pygments_lexer": "ipython3",
   "version": "3.10.2"
  }
 },
 "nbformat": 4,
 "nbformat_minor": 5
}
