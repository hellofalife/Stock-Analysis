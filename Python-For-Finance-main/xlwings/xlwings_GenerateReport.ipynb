{
 "cells": [
  {
   "cell_type": "code",
   "execution_count": 2,
   "id": "7c21d08a-d097-46f4-8d71-9104c8cb37b3",
   "metadata": {},
   "outputs": [],
   "source": [
    "import xlwings as xw\n",
    "import quantstats as qs\n",
    "from pathlib import Path\n",
    "\n",
    "filename = Path(\"stock_report.xlsx\")\n",
    "wb = xw.Book(filename)\n",
    "sheet = wb.sheets[\"Report\"]"
   ]
  },
  {
   "cell_type": "code",
   "execution_count": 4,
   "id": "96906269-1e49-4c16-89ed-a7516b15e286",
   "metadata": {},
   "outputs": [],
   "source": [
    "def generate_report(ticker):\n",
    "    stock_data = qs.utils.download_returns(ticker)\n",
    "\n",
    "    snapshot_path = Path('snapshot.png')\n",
    "    heatmap_path = Path('return_heatmap.png')\n",
    "\n",
    "    title = f\"{ticker} Performance\"\n",
    "\n",
    "    stock_snapshot = qs.plots.snapshot(stock_data,  \n",
    "                                      title=title, \n",
    "                                      savefig=snapshot_path,\n",
    "                                      show=False)\n",
    "\n",
    "    stock_heatmap = qs.plots.monthly_heatmap(stock_data, \n",
    "                                             savefig=heatmap_path,\n",
    "                                             show=False)\n",
    "\n",
    "    sheet.pictures.add(snapshot_path.absolute(), \n",
    "                     name='snapshot', \n",
    "                     update=True)\n",
    "\n",
    "    sheet.pictures.add(heatmap_path.absolute(), \n",
    "                     name='heatmap', \n",
    "                     update=True)\n",
    "\n",
    "    wb.to_pdf(ticker + ' Stock Report')"
   ]
  },
  {
   "cell_type": "code",
   "execution_count": 5,
   "id": "57178f7e-68a2-4254-b15d-345318aaebc0",
   "metadata": {},
   "outputs": [],
   "source": [
    "ticker = \"AAPL\"\n",
    "sheet.range('C3').value = ticker\n",
    "wb.save(\"stock_report.xlsx\")\n",
    "generate_report(ticker)"
   ]
  },
  {
   "cell_type": "code",
   "execution_count": null,
   "id": "98c4085c-761e-4d7e-b09f-a259bacee504",
   "metadata": {},
   "outputs": [],
   "source": []
  }
 ],
 "metadata": {
  "kernelspec": {
   "display_name": "Python 3 (ipykernel)",
   "language": "python",
   "name": "python3"
  },
  "language_info": {
   "codemirror_mode": {
    "name": "ipython",
    "version": 3
   },
   "file_extension": ".py",
   "mimetype": "text/x-python",
   "name": "python",
   "nbconvert_exporter": "python",
   "pygments_lexer": "ipython3",
   "version": "3.9.6"
  }
 },
 "nbformat": 4,
 "nbformat_minor": 5
}
