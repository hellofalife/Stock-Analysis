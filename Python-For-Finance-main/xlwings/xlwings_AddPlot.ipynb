{
 "cells": [
  {
   "cell_type": "code",
   "execution_count": 1,
   "id": "af367337-5210-450c-80f1-902baf7d5472",
   "metadata": {},
   "outputs": [
    {
     "name": "stdout",
     "output_type": "stream",
     "text": [
      "[*********************100%***********************]  1 of 1 completed\n"
     ]
    }
   ],
   "source": [
    "import pandas as pd\n",
    "import yfinance as yf\n",
    "import datetime as dt\n",
    "import xlwings as xw\n",
    "\n",
    "start = dt.datetime(2021, 1, 1)\n",
    "end = dt.datetime(2021, 12, 31)\n",
    "stock_data = yf.download('AAPL', start, end)"
   ]
  },
  {
   "cell_type": "code",
   "execution_count": 2,
   "id": "610e877d-4821-49bf-97df-05169c2132df",
   "metadata": {},
   "outputs": [
    {
     "data": {
      "text/html": [
       "<div>\n",
       "<style scoped>\n",
       "    .dataframe tbody tr th:only-of-type {\n",
       "        vertical-align: middle;\n",
       "    }\n",
       "\n",
       "    .dataframe tbody tr th {\n",
       "        vertical-align: top;\n",
       "    }\n",
       "\n",
       "    .dataframe thead th {\n",
       "        text-align: right;\n",
       "    }\n",
       "</style>\n",
       "<table border=\"1\" class=\"dataframe\">\n",
       "  <thead>\n",
       "    <tr style=\"text-align: right;\">\n",
       "      <th></th>\n",
       "      <th>Open</th>\n",
       "      <th>High</th>\n",
       "      <th>Low</th>\n",
       "      <th>Close</th>\n",
       "      <th>Adj Close</th>\n",
       "      <th>Volume</th>\n",
       "    </tr>\n",
       "    <tr>\n",
       "      <th>Date</th>\n",
       "      <th></th>\n",
       "      <th></th>\n",
       "      <th></th>\n",
       "      <th></th>\n",
       "      <th></th>\n",
       "      <th></th>\n",
       "    </tr>\n",
       "  </thead>\n",
       "  <tbody>\n",
       "    <tr>\n",
       "      <th>2020-12-31</th>\n",
       "      <td>134.080002</td>\n",
       "      <td>134.740005</td>\n",
       "      <td>131.720001</td>\n",
       "      <td>132.690002</td>\n",
       "      <td>131.876999</td>\n",
       "      <td>99116600</td>\n",
       "    </tr>\n",
       "    <tr>\n",
       "      <th>2021-01-04</th>\n",
       "      <td>133.520004</td>\n",
       "      <td>133.610001</td>\n",
       "      <td>126.760002</td>\n",
       "      <td>129.410004</td>\n",
       "      <td>128.617111</td>\n",
       "      <td>143301900</td>\n",
       "    </tr>\n",
       "    <tr>\n",
       "      <th>2021-01-05</th>\n",
       "      <td>128.889999</td>\n",
       "      <td>131.740005</td>\n",
       "      <td>128.429993</td>\n",
       "      <td>131.009995</td>\n",
       "      <td>130.207291</td>\n",
       "      <td>97664900</td>\n",
       "    </tr>\n",
       "    <tr>\n",
       "      <th>2021-01-06</th>\n",
       "      <td>127.720001</td>\n",
       "      <td>131.050003</td>\n",
       "      <td>126.379997</td>\n",
       "      <td>126.599998</td>\n",
       "      <td>125.824318</td>\n",
       "      <td>155088000</td>\n",
       "    </tr>\n",
       "    <tr>\n",
       "      <th>2021-01-07</th>\n",
       "      <td>128.360001</td>\n",
       "      <td>131.630005</td>\n",
       "      <td>127.860001</td>\n",
       "      <td>130.919998</td>\n",
       "      <td>130.117859</td>\n",
       "      <td>109578200</td>\n",
       "    </tr>\n",
       "  </tbody>\n",
       "</table>\n",
       "</div>"
      ],
      "text/plain": [
       "                  Open        High         Low       Close   Adj Close  \\\n",
       "Date                                                                     \n",
       "2020-12-31  134.080002  134.740005  131.720001  132.690002  131.876999   \n",
       "2021-01-04  133.520004  133.610001  126.760002  129.410004  128.617111   \n",
       "2021-01-05  128.889999  131.740005  128.429993  131.009995  130.207291   \n",
       "2021-01-06  127.720001  131.050003  126.379997  126.599998  125.824318   \n",
       "2021-01-07  128.360001  131.630005  127.860001  130.919998  130.117859   \n",
       "\n",
       "               Volume  \n",
       "Date                   \n",
       "2020-12-31   99116600  \n",
       "2021-01-04  143301900  \n",
       "2021-01-05   97664900  \n",
       "2021-01-06  155088000  \n",
       "2021-01-07  109578200  "
      ]
     },
     "execution_count": 2,
     "metadata": {},
     "output_type": "execute_result"
    }
   ],
   "source": [
    "stock_data.head()"
   ]
  },
  {
   "cell_type": "code",
   "execution_count": 4,
   "id": "be78f900-a443-4b06-a270-7bf1c8d4d0f1",
   "metadata": {},
   "outputs": [],
   "source": [
    "wb = xw.Book()\n",
    "sheet = wb.sheets[\"Sheet1\"]\n",
    "sheet.range(\"A1\").value = stock_data "
   ]
  },
  {
   "cell_type": "code",
   "execution_count": 5,
   "id": "991ceceb-fcf4-46dc-bb9e-4916fae49e0c",
   "metadata": {},
   "outputs": [],
   "source": [
    "wb.save(\"stock_data.xlsx\")\n",
    "wb.close()"
   ]
  },
  {
   "cell_type": "code",
   "execution_count": 6,
   "id": "aa4b3b1c-4f98-44f0-b737-df90b13be222",
   "metadata": {},
   "outputs": [],
   "source": [
    "from pathlib import Path\n",
    "filename = Path(\"stock_data.xlsx\")\n",
    "wb = xw.Book(filename)\n",
    "sheet = wb.sheets[\"Sheet1\"]"
   ]
  },
  {
   "cell_type": "code",
   "execution_count": 7,
   "id": "dc86fc68-854f-45d2-af87-77d5cdce4042",
   "metadata": {},
   "outputs": [],
   "source": [
    "import matplotlib.pyplot as plt\n",
    "\n",
    "fig = stock_data['Adj Close'].plot(figsize=(12, 8))\n",
    "fig = fig.get_figure()\n",
    "sheet.pictures.add(fig, name=\"Stockprice\", update=True, left=sheet.range('I5').left, top=sheet.range('I5').top)\n",
    "wb.save(\"stock_data.xlsx\")"
   ]
  },
  {
   "cell_type": "code",
   "execution_count": 8,
   "id": "4554937c-0064-4dac-b91b-6f168f7b4d55",
   "metadata": {},
   "outputs": [],
   "source": [
    "import plotly.graph_objects as go\n",
    "\n",
    "fig = go.Figure(data=[go.Candlestick(x=stock_data.index,\n",
    "                open=stock_data['Open'],\n",
    "                high=stock_data['High'],\n",
    "                low=stock_data['Low'],\n",
    "                close=stock_data['Close'])])\n",
    "\n",
    "sheet.pictures.add(fig, name=\"Stockprice\", update=True, left=sheet.range('I5').left, top=sheet.range('I5').top)\n",
    "wb.save(\"stock_data.xlsx\")"
   ]
  },
  {
   "cell_type": "code",
   "execution_count": null,
   "id": "b785ab66-ae3b-4614-8f13-346a38440d99",
   "metadata": {},
   "outputs": [],
   "source": []
  }
 ],
 "metadata": {
  "kernelspec": {
   "display_name": "Python 3 (ipykernel)",
   "language": "python",
   "name": "python3"
  },
  "language_info": {
   "codemirror_mode": {
    "name": "ipython",
    "version": 3
   },
   "file_extension": ".py",
   "mimetype": "text/x-python",
   "name": "python",
   "nbconvert_exporter": "python",
   "pygments_lexer": "ipython3",
   "version": "3.9.6"
  }
 },
 "nbformat": 4,
 "nbformat_minor": 5
}
