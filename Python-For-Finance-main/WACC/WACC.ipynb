{
 "cells": [
  {
   "cell_type": "code",
   "execution_count": 1,
   "id": "2961a871-1c75-4a6d-b9ec-f4bcb6765707",
   "metadata": {},
   "outputs": [],
   "source": [
    "import fundamentalanalysis as fa\n",
    "from yahoofinancials import YahooFinancials\n",
    "\n",
    "ticker = \"MSFT\"\n",
    "api_key = \"YOUR API KEY\"\n",
    "\n",
    "profile_df = fa.profile(ticker, api_key)\n",
    "income_df = fa.income_statement(ticker, api_key, period=\"annual\")\n",
    "bs_df = fa.balance_sheet_statement(ticker, api_key, period=\"annual\")"
   ]
  },
  {
   "cell_type": "code",
   "execution_count": 2,
   "id": "096ac906-641e-4045-8a56-4ddffbc45310",
   "metadata": {},
   "outputs": [],
   "source": [
    "#Cost of Debt Calculation\n",
    "interest_expense = income_df.loc[\"interestExpense\"][0]\n",
    "income_tax_expense = income_df.loc[\"incomeTaxExpense\"][0]\n",
    "income_before_tax = income_df.loc[\"incomeBeforeTax\"][0]\n",
    "\n",
    "lt_debt = bs_df.loc[\"longTermDebt\"][0]\n",
    "st_debt = bs_df.loc[\"shortTermDebt\"][0]\n",
    "\n",
    "rd = interest_expense / (lt_debt + st_debt)\n",
    "t = income_tax_expense / income_before_tax"
   ]
  },
  {
   "cell_type": "code",
   "execution_count": 3,
   "id": "1c8d0c4a-e39e-49d3-a2cf-285c2488c5ba",
   "metadata": {},
   "outputs": [
    {
     "name": "stdout",
     "output_type": "stream",
     "text": [
      "Cost of Debt, rd:  0.0336706381589685\n",
      "Effective tax rate:  0.8688661665631421\n"
     ]
    }
   ],
   "source": [
    "print(\"Cost of Debt, rd: \", rd)\n",
    "print(\"Effective tax rate: \", (1-t))"
   ]
  },
  {
   "cell_type": "code",
   "execution_count": 4,
   "id": "04b76afa-53fa-48d6-b184-7b528b041402",
   "metadata": {},
   "outputs": [
    {
     "name": "stdout",
     "output_type": "stream",
     "text": [
      "Cost of Equity, re:  0.08122948931561999\n"
     ]
    }
   ],
   "source": [
    "#Cost of Equity Calculation\n",
    "risk_free_rate = YahooFinancials('^TNX').get_current_price() / 100\n",
    "beta = profile_df.loc[\"beta\"][0]\n",
    "market_return = 0.0851\n",
    "\n",
    "re = risk_free_rate + (beta * (market_return - risk_free_rate))\n",
    "\n",
    "print(\"Cost of Equity, re: \", re)"
   ]
  },
  {
   "cell_type": "code",
   "execution_count": 5,
   "id": "3c9ec9b0-1934-405c-a4ab-ddc88527a17d",
   "metadata": {},
   "outputs": [
    {
     "name": "stdout",
     "output_type": "stream",
     "text": [
      "Weight of Debt:  0.031689300588982366\n",
      "Weight of Equity:  0.9683106994110177\n"
     ]
    }
   ],
   "source": [
    "#Weight of Debt & Equity Calculation\n",
    "total_debt = lt_debt + st_debt\n",
    "market_cap = profile_df.loc['mktCap'][0]\n",
    "\n",
    "wd = total_debt / (total_debt + market_cap)\n",
    "we = market_cap / (total_debt + market_cap)\n",
    "\n",
    "print(\"Weight of Debt: \", wd)\n",
    "print(\"Weight of Equity: \", we)"
   ]
  },
  {
   "cell_type": "code",
   "execution_count": 6,
   "id": "f30d0143-9c4a-4ba2-9f3c-701fe6cd8f54",
   "metadata": {},
   "outputs": [
    {
     "name": "stdout",
     "output_type": "stream",
     "text": [
      "Weighted average cost of capital (WACC) = 7.96% \n"
     ]
    }
   ],
   "source": [
    "#WACC Calculation\n",
    "wacc = wd*rd*(1-t) + we*re\n",
    "print(\"Weighted average cost of capital (WACC) = %.2f%% \" % (wacc * 100))"
   ]
  }
 ],
 "metadata": {
  "kernelspec": {
   "display_name": "Python 3 (ipykernel)",
   "language": "python",
   "name": "python3"
  },
  "language_info": {
   "codemirror_mode": {
    "name": "ipython",
    "version": 3
   },
   "file_extension": ".py",
   "mimetype": "text/x-python",
   "name": "python",
   "nbconvert_exporter": "python",
   "pygments_lexer": "ipython3",
   "version": "3.10.2"
  }
 },
 "nbformat": 4,
 "nbformat_minor": 5
}
