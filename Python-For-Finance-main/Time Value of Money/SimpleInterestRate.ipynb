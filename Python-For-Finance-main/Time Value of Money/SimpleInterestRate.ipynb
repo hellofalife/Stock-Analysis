{
 "cells": [
  {
   "cell_type": "code",
   "execution_count": 1,
   "id": "a7357da5",
   "metadata": {},
   "outputs": [
    {
     "name": "stdout",
     "output_type": "stream",
     "text": [
      "Total payment amount (Principal + Interest): $18000.0\n"
     ]
    }
   ],
   "source": [
    "import numpy_financial as npf\n",
    "import numpy as np\n",
    "\n",
    "#Simple interest \n",
    "principal = 15000\n",
    "annual_rate = 0.04\n",
    "t = 5\n",
    "amount = principal * (1 + annual_rate* t)\n",
    "print(\"Total payment amount (Principal + Interest): $\" + str(amount))"
   ]
  },
  {
   "cell_type": "code",
   "execution_count": 2,
   "id": "dc17b6a2",
   "metadata": {},
   "outputs": [
    {
     "name": "stdout",
     "output_type": "stream",
     "text": [
      "Monthly Installment Amount (Principal + Interest): $276.2478308289896\n"
     ]
    }
   ],
   "source": [
    "monthly_rate = annual_rate/12\n",
    "t = 12 * 5\n",
    "loan_amount = 15000\n",
    "monthly_payment = (npf.pmt(monthly_rate, t, loan_amount)) * -1 \n",
    "print(\"Monthly Installment Amount (Principal + Interest): $\" + str(monthly_payment ))"
   ]
  },
  {
   "cell_type": "code",
   "execution_count": 3,
   "id": "1a34b59a",
   "metadata": {},
   "outputs": [
    {
     "data": {
      "text/plain": [
       "276.2478308289895"
      ]
     },
     "execution_count": 3,
     "metadata": {},
     "output_type": "execute_result"
    }
   ],
   "source": [
    "(monthly_rate * 15000)/ (1-(1 + (monthly_rate))**(-t))"
   ]
  },
  {
   "cell_type": "code",
   "execution_count": 4,
   "id": "69af3271",
   "metadata": {},
   "outputs": [
    {
     "name": "stdout",
     "output_type": "stream",
     "text": [
      "Term Principal Paid Interest Paid Remaining Principal\n",
      " 0         0.00            0.00        15000.00\n",
      " 1      -226.25          -50.00        14773.75\n",
      " 2      -227.00          -49.25        14546.75\n",
      " 3      -227.76          -48.49        14318.99\n",
      " 4      -228.52          -47.73        14090.47\n",
      " 5      -229.28          -46.97        13861.19\n",
      " 6      -230.04          -46.20        13631.15\n",
      " 7      -230.81          -45.44        13400.34\n",
      " 8      -231.58          -44.67        13168.76\n",
      " 9      -232.35          -43.90        12936.41\n",
      "10      -233.13          -43.12        12703.28\n",
      "11      -233.90          -42.34        12469.38\n",
      "12      -234.68          -41.56        12234.69\n",
      "13      -235.47          -40.78        11999.23\n",
      "14      -236.25          -40.00        11762.98\n",
      "15      -237.04          -39.21        11525.94\n",
      "16      -237.83          -38.42        11288.11\n",
      "17      -238.62          -37.63        11049.49\n",
      "18      -239.42          -36.83        10810.08\n",
      "19      -240.21          -36.03        10569.86\n",
      "20      -241.01          -35.23        10328.85\n",
      "21      -241.82          -34.43        10087.03\n",
      "22      -242.62          -33.62         9844.40\n",
      "23      -243.43          -32.81         9600.97\n",
      "24      -244.24          -32.00         9356.73\n",
      "25      -245.06          -31.19         9111.67\n",
      "26      -245.88          -30.37         8865.79\n",
      "27      -246.70          -29.55         8619.10\n",
      "28      -247.52          -28.73         8371.58\n",
      "29      -248.34          -27.91         8123.24\n",
      "30      -249.17          -27.08         7874.07\n",
      "31      -250.00          -26.25         7624.06\n",
      "32      -250.83          -25.41         7373.23\n",
      "33      -251.67          -24.58         7121.56\n",
      "34      -252.51          -23.74         6869.05\n",
      "35      -253.35          -22.90         6615.70\n",
      "36      -254.20          -22.05         6361.50\n",
      "37      -255.04          -21.21         6106.46\n",
      "38      -255.89          -20.35         5850.57\n",
      "39      -256.75          -19.50         5593.82\n",
      "40      -257.60          -18.65         5336.22\n",
      "41      -258.46          -17.79         5077.76\n",
      "42      -259.32          -16.93         4818.44\n",
      "43      -260.19          -16.06         4558.25\n",
      "44      -261.05          -15.19         4297.20\n",
      "45      -261.92          -14.32         4035.27\n",
      "46      -262.80          -13.45         3772.48\n",
      "47      -263.67          -12.57         3508.80\n",
      "48      -264.55          -11.70         3244.25\n",
      "49      -265.43          -10.81         2978.82\n",
      "50      -266.32           -9.93         2712.50\n",
      "51      -267.21           -9.04         2445.29\n",
      "52      -268.10           -8.15         2177.20\n",
      "53      -268.99           -7.26         1908.21\n",
      "54      -269.89           -6.36         1638.32\n",
      "55      -270.79           -5.46         1367.53\n",
      "56      -271.69           -4.56         1095.84\n",
      "57      -272.60           -3.65          823.25\n",
      "58      -273.50           -2.74          549.75\n",
      "59      -274.42           -1.83          275.33\n",
      "60      -275.33           -0.92            0.00\n"
     ]
    }
   ],
   "source": [
    "principal = 15000\n",
    "per = np.arange(t) + 1\n",
    "interest_paids = npf.ipmt(monthly_rate, per, t, principal)\n",
    "principal_paids = npf.ppmt(monthly_rate, per, t, principal)\n",
    "\n",
    "fmt1 = '{0:s} {1:s} {2:s} {3:s}'\n",
    "fmt2 = '{0:2d} {1:12.2f} {2:15.2f} {3:15.2f}'\n",
    "fmt3 = '{0:2d} {1:12.2f} {2:15.2f} {3:15.2f}'\n",
    "\n",
    "print(fmt1.format('Term', 'Principal Paid', 'Interest Paid', 'Remaining Principal'))\n",
    "print(fmt2.format(0, 0, 0, principal))\n",
    "\n",
    "for n in per:\n",
    "    i = n - 1\n",
    "    principal = principal + principal_paids[i]\n",
    "    print(fmt3.format(n, principal_paids[i], interest_paids[i], principal))"
   ]
  },
  {
   "cell_type": "code",
   "execution_count": 5,
   "id": "e28f1a20",
   "metadata": {},
   "outputs": [
    {
     "name": "stdout",
     "output_type": "stream",
     "text": [
      "Monthly Installment Amount (Principal + Interest): $205.03209504734366\n"
     ]
    }
   ],
   "source": [
    "monthly_rate = annual_rate/12\n",
    "t = 12 * 7\n",
    "loan_amount = 15000\n",
    "monthly_payment = (npf.pmt(monthly_rate, t, loan_amount)) * -1 \n",
    "print(\"Monthly Installment Amount (Principal + Interest): $\" + str(monthly_payment ))"
   ]
  },
  {
   "cell_type": "code",
   "execution_count": 6,
   "id": "cb3563d2",
   "metadata": {},
   "outputs": [
    {
     "name": "stdout",
     "output_type": "stream",
     "text": [
      "The cumulative interest payment (5 years): $1574.8698497397165\n",
      "The cumulative interest payment (7 years): $2222.6959839772107\n"
     ]
    }
   ],
   "source": [
    "#Cumulative interest payment for 5 years\n",
    "t = 12 * 5\n",
    "principal = 15000\n",
    "per = np.arange(t) + 1\n",
    "interest_paids = npf.ipmt(monthly_rate, per, t, principal)\n",
    "cumulative_ipmt = interest_paids.sum() * -1\n",
    "print(\"The cumulative interest payment (5 years): $\" + str(cumulative_ipmt))\n",
    "\n",
    "#Cumulative interest payment for 7 years\n",
    "t = 12 * 7\n",
    "principal = 15000\n",
    "per = np.arange(t) + 1\n",
    "interest_paids = npf.ipmt(monthly_rate, per, t, principal)\n",
    "cumulative_ipmt = interest_paids.sum() * -1\n",
    "print(\"The cumulative interest payment (7 years): $\" + str(cumulative_ipmt))"
   ]
  }
 ],
 "metadata": {
  "kernelspec": {
   "display_name": "Python 3",
   "language": "python",
   "name": "python3"
  },
  "language_info": {
   "codemirror_mode": {
    "name": "ipython",
    "version": 3
   },
   "file_extension": ".py",
   "mimetype": "text/x-python",
   "name": "python",
   "nbconvert_exporter": "python",
   "pygments_lexer": "ipython3",
   "version": "3.8.5"
  }
 },
 "nbformat": 4,
 "nbformat_minor": 5
}
