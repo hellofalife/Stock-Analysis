{
 "cells": [
  {
   "cell_type": "code",
   "execution_count": 1,
   "id": "36390d12",
   "metadata": {},
   "outputs": [
    {
     "data": {
      "text/plain": [
       "-1343.9163793441223"
      ]
     },
     "execution_count": 1,
     "metadata": {},
     "output_type": "execute_result"
    }
   ],
   "source": [
    "import numpy_financial as npf\n",
    "import numpy as np\n",
    "npf.fv(0.03, 10, 0, 1000)"
   ]
  },
  {
   "cell_type": "code",
   "execution_count": 2,
   "id": "b676bf80",
   "metadata": {},
   "outputs": [
    {
     "data": {
      "text/plain": [
       "-1116.1408723450875"
      ]
     },
     "execution_count": 2,
     "metadata": {},
     "output_type": "execute_result"
    }
   ],
   "source": [
    "npf.pv(0.03, 10, 0, 1500)"
   ]
  },
  {
   "cell_type": "code",
   "execution_count": 3,
   "id": "a4ab4145",
   "metadata": {},
   "outputs": [
    {
     "data": {
      "text/plain": [
       "-37688.94828730004"
      ]
     },
     "execution_count": 3,
     "metadata": {},
     "output_type": "execute_result"
    }
   ],
   "source": [
    "npf.pv(0.05, 20, 0, 100000)"
   ]
  },
  {
   "cell_type": "code",
   "execution_count": 4,
   "id": "37deabe9",
   "metadata": {},
   "outputs": [
    {
     "data": {
      "text/plain": [
       "-23137.744865585784"
      ]
     },
     "execution_count": 4,
     "metadata": {},
     "output_type": "execute_result"
    }
   ],
   "source": [
    "npf.pv(0.05, 30, 0, 100000)"
   ]
  },
  {
   "cell_type": "code",
   "execution_count": 5,
   "id": "6a8b48cd",
   "metadata": {},
   "outputs": [
    {
     "data": {
      "text/plain": [
       "-14864.362802414345"
      ]
     },
     "execution_count": 5,
     "metadata": {},
     "output_type": "execute_result"
    }
   ],
   "source": [
    "npf.pv(0.10, 20, 0, 100000)"
   ]
  },
  {
   "cell_type": "code",
   "execution_count": 6,
   "id": "b500b8e2",
   "metadata": {},
   "outputs": [
    {
     "data": {
      "text/plain": [
       "447229.1485437993"
      ]
     },
     "execution_count": 6,
     "metadata": {},
     "output_type": "execute_result"
    }
   ],
   "source": [
    "annual_rate = 0.025\n",
    "monthly_rate = (1+annual_rate)**(1/12) -1\n",
    "nums_of_months = 25 * 12\n",
    "\n",
    "pv_list = []\n",
    "\n",
    "for i in range(1, nums_of_months+1):\n",
    "    pv = (npf.pv(monthly_rate, i, 0, 2000 )) * -1\n",
    "    pv_list.append(pv)\n",
    "\n",
    "pv_list_np = np.array(pv_list)\n",
    "pv_list_np.sum()"
   ]
  }
 ],
 "metadata": {
  "kernelspec": {
   "display_name": "Python 3",
   "language": "python",
   "name": "python3"
  },
  "language_info": {
   "codemirror_mode": {
    "name": "ipython",
    "version": 3
   },
   "file_extension": ".py",
   "mimetype": "text/x-python",
   "name": "python",
   "nbconvert_exporter": "python",
   "pygments_lexer": "ipython3",
   "version": "3.8.5"
  }
 },
 "nbformat": 4,
 "nbformat_minor": 5
}
