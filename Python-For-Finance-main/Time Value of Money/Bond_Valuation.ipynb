{
 "cells": [
  {
   "cell_type": "code",
   "execution_count": 1,
   "id": "3cb86e44",
   "metadata": {},
   "outputs": [
    {
     "name": "stdout",
     "output_type": "stream",
     "text": [
      "The price of bond is : $2168.494551422629\n"
     ]
    }
   ],
   "source": [
    "import numpy_financial as npf\n",
    "import numpy as np\n",
    "\n",
    "principal = 2000\n",
    "annual_interest = 0.06\n",
    "period = 5\n",
    "coupon_payment = 0.08 * principal\n",
    "\n",
    "bond_price = (npf.pv(annual_interest, period, coupon_payment, principal)) * -1\n",
    "print(\"The price of bond is : $\" + str(bond_price))"
   ]
  },
  {
   "cell_type": "code",
   "execution_count": 2,
   "id": "bf08a487",
   "metadata": {},
   "outputs": [
    {
     "name": "stdout",
     "output_type": "stream",
     "text": [
      "The YTM for this bond is: 7.894736842105263%\n"
     ]
    }
   ],
   "source": [
    "face_value = 10000\n",
    "market_price = 9000\n",
    "n = 4\n",
    "coupon_payment = 0.05 * 10000\n",
    "\n",
    "ytm = ((coupon_payment + (face_value-market_price)/ n)) / ((face_value + market_price)/2)\n",
    "print(\"The YTM for this bond is: \" + str(ytm*100) + \"%\")"
   ]
  }
 ],
 "metadata": {
  "kernelspec": {
   "display_name": "Python 3",
   "language": "python",
   "name": "python3"
  },
  "language_info": {
   "codemirror_mode": {
    "name": "ipython",
    "version": 3
   },
   "file_extension": ".py",
   "mimetype": "text/x-python",
   "name": "python",
   "nbconvert_exporter": "python",
   "pygments_lexer": "ipython3",
   "version": "3.8.5"
  }
 },
 "nbformat": 4,
 "nbformat_minor": 5
}
