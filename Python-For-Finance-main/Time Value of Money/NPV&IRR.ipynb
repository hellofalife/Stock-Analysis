{
 "cells": [
  {
   "cell_type": "code",
   "execution_count": 1,
   "id": "63fed4c7",
   "metadata": {},
   "outputs": [
    {
     "data": {
      "text/plain": [
       "1196.175119077605"
      ]
     },
     "execution_count": 1,
     "metadata": {},
     "output_type": "execute_result"
    }
   ],
   "source": [
    "import numpy_financial as npf\n",
    "import numpy as np\n",
    "\n",
    "rate = 0.05\n",
    "cashflows = [-100000, 10000, 18000, 25000,32000, 35000]\n",
    "npf.npv(rate, cashflows)"
   ]
  },
  {
   "cell_type": "code",
   "execution_count": 2,
   "id": "cf5bbd40",
   "metadata": {},
   "outputs": [
    {
     "data": {
      "text/plain": [
       "0.05362550579406711"
      ]
     },
     "execution_count": 2,
     "metadata": {},
     "output_type": "execute_result"
    }
   ],
   "source": [
    "cashflows = [-100000, 10000, 18000, 25000,32000, 35000]\n",
    "npf.irr(cashflows)"
   ]
  },
  {
   "cell_type": "code",
   "execution_count": 3,
   "id": "a9ade2b1",
   "metadata": {},
   "outputs": [
    {
     "name": "stdout",
     "output_type": "stream",
     "text": [
      "47311.317717167105\n",
      "0.17718948308565374\n"
     ]
    }
   ],
   "source": [
    "rate = 0.05\n",
    "cashflows = [-100000, 15000, 25000, 35000,45000, 55000]\n",
    "print(npf.npv(rate, cashflows))\n",
    "print(npf.irr(cashflows))"
   ]
  }
 ],
 "metadata": {
  "kernelspec": {
   "display_name": "Python 3",
   "language": "python",
   "name": "python3"
  },
  "language_info": {
   "codemirror_mode": {
    "name": "ipython",
    "version": 3
   },
   "file_extension": ".py",
   "mimetype": "text/x-python",
   "name": "python",
   "nbconvert_exporter": "python",
   "pygments_lexer": "ipython3",
   "version": "3.8.5"
  }
 },
 "nbformat": 4,
 "nbformat_minor": 5
}
