{
 "cells": [
  {
   "cell_type": "code",
   "execution_count": 1,
   "id": "88034621",
   "metadata": {},
   "outputs": [
    {
     "name": "stdout",
     "output_type": "stream",
     "text": [
      "[*********************100%***********************]  1 of 1 completed\n"
     ]
    }
   ],
   "source": [
    "import yfinance as yf\n",
    "import talib\n",
    "import numpy as np\n",
    "import pandas as pd\n",
    "import matplotlib.pyplot as plt\n",
    "from matplotlib import pyplot\n",
    "from sklearn.ensemble import RandomForestRegressor\n",
    "from sklearn.model_selection import ParameterGrid\n",
    "from sklearn import metrics\n",
    "%matplotlib inline\n",
    "\n",
    "ticker= \"googl\"\n",
    "stock_data = yf.download(ticker, start=\"2016-01-04\", end=\"2021-05-12\")"
   ]
  },
  {
   "cell_type": "code",
   "execution_count": 2,
   "id": "567705f0",
   "metadata": {},
   "outputs": [
    {
     "data": {
      "text/html": [
       "<div>\n",
       "<style scoped>\n",
       "    .dataframe tbody tr th:only-of-type {\n",
       "        vertical-align: middle;\n",
       "    }\n",
       "\n",
       "    .dataframe tbody tr th {\n",
       "        vertical-align: top;\n",
       "    }\n",
       "\n",
       "    .dataframe thead th {\n",
       "        text-align: right;\n",
       "    }\n",
       "</style>\n",
       "<table border=\"1\" class=\"dataframe\">\n",
       "  <thead>\n",
       "    <tr style=\"text-align: right;\">\n",
       "      <th></th>\n",
       "      <th>Open</th>\n",
       "      <th>High</th>\n",
       "      <th>Low</th>\n",
       "      <th>Close</th>\n",
       "      <th>Adj Close</th>\n",
       "      <th>Volume</th>\n",
       "    </tr>\n",
       "    <tr>\n",
       "      <th>Date</th>\n",
       "      <th></th>\n",
       "      <th></th>\n",
       "      <th></th>\n",
       "      <th></th>\n",
       "      <th></th>\n",
       "      <th></th>\n",
       "    </tr>\n",
       "  </thead>\n",
       "  <tbody>\n",
       "    <tr>\n",
       "      <th>2016-01-04</th>\n",
       "      <td>762.200012</td>\n",
       "      <td>762.200012</td>\n",
       "      <td>747.539978</td>\n",
       "      <td>759.440002</td>\n",
       "      <td>759.440002</td>\n",
       "      <td>3369100</td>\n",
       "    </tr>\n",
       "    <tr>\n",
       "      <th>2016-01-05</th>\n",
       "      <td>764.099976</td>\n",
       "      <td>769.200012</td>\n",
       "      <td>755.650024</td>\n",
       "      <td>761.530029</td>\n",
       "      <td>761.530029</td>\n",
       "      <td>2260800</td>\n",
       "    </tr>\n",
       "    <tr>\n",
       "      <th>2016-01-06</th>\n",
       "      <td>750.369995</td>\n",
       "      <td>765.729980</td>\n",
       "      <td>748.000000</td>\n",
       "      <td>759.330017</td>\n",
       "      <td>759.330017</td>\n",
       "      <td>2410300</td>\n",
       "    </tr>\n",
       "    <tr>\n",
       "      <th>2016-01-07</th>\n",
       "      <td>746.489990</td>\n",
       "      <td>755.309998</td>\n",
       "      <td>735.280029</td>\n",
       "      <td>741.000000</td>\n",
       "      <td>741.000000</td>\n",
       "      <td>3156600</td>\n",
       "    </tr>\n",
       "    <tr>\n",
       "      <th>2016-01-08</th>\n",
       "      <td>747.799988</td>\n",
       "      <td>750.119995</td>\n",
       "      <td>728.919983</td>\n",
       "      <td>730.909973</td>\n",
       "      <td>730.909973</td>\n",
       "      <td>2375300</td>\n",
       "    </tr>\n",
       "  </tbody>\n",
       "</table>\n",
       "</div>"
      ],
      "text/plain": [
       "                  Open        High         Low       Close   Adj Close  \\\n",
       "Date                                                                     \n",
       "2016-01-04  762.200012  762.200012  747.539978  759.440002  759.440002   \n",
       "2016-01-05  764.099976  769.200012  755.650024  761.530029  761.530029   \n",
       "2016-01-06  750.369995  765.729980  748.000000  759.330017  759.330017   \n",
       "2016-01-07  746.489990  755.309998  735.280029  741.000000  741.000000   \n",
       "2016-01-08  747.799988  750.119995  728.919983  730.909973  730.909973   \n",
       "\n",
       "             Volume  \n",
       "Date                 \n",
       "2016-01-04  3369100  \n",
       "2016-01-05  2260800  \n",
       "2016-01-06  2410300  \n",
       "2016-01-07  3156600  \n",
       "2016-01-08  2375300  "
      ]
     },
     "execution_count": 2,
     "metadata": {},
     "output_type": "execute_result"
    }
   ],
   "source": [
    "stock_data.head()"
   ]
  },
  {
   "cell_type": "code",
   "execution_count": 3,
   "id": "42a5a7b6",
   "metadata": {},
   "outputs": [
    {
     "data": {
      "image/png": "[encoded data removed]",
      "text/plain": [
       "<Figure size 432x288 with 1 Axes>"
      ]
     },
     "metadata": {
      "needs_background": "light"
     },
     "output_type": "display_data"
    }
   ],
   "source": [
    "stock_data['Adj Close'].plot()\n",
    "plt.ylabel(\"Adjusted Close Prices\")\n",
    "plt.show()"
   ]
  },
  {
   "cell_type": "code",
   "execution_count": 4,
   "id": "499508be",
   "metadata": {},
   "outputs": [
    {
     "data": {
      "image/png": "[encoded data removed]",
      "text/plain": [
       "<Figure size 432x288 with 1 Axes>"
      ]
     },
     "metadata": {
      "needs_background": "light"
     },
     "output_type": "display_data"
    }
   ],
   "source": [
    "stock_data['Adj Close'].pct_change().plot.hist(bins=50)\n",
    "plt.xlabel(\"Adjusted close 1 day percent change\")\n",
    "plt.show()"
   ]
  },
  {
   "cell_type": "code",
   "execution_count": 5,
   "id": "442ad6f6",
   "metadata": {},
   "outputs": [],
   "source": [
    "feature_names = []\n",
    "for n in [14, 30, 50, 200]:\n",
    "    stock_data['ma' + str(n)] = talib.SMA(stock_data['Adj Close'].values, timeperiod=n)\n",
    "    stock_data['rsi' + str(n)] = talib.RSI(stock_data['Adj Close'].values, timeperiod=n)\n",
    "\n",
    "    feature_names = feature_names + ['ma' + str(n), 'rsi' + str(n)]"
   ]
  },
  {
   "cell_type": "code",
   "execution_count": 6,
   "id": "a9945056",
   "metadata": {},
   "outputs": [],
   "source": [
    "stock_data['Volume_1d_change'] = stock_data['Volume'].pct_change()\n",
    "\n",
    "volume_features = ['Volume_1d_change']\n",
    "feature_names.extend(volume_features)"
   ]
  },
  {
   "cell_type": "code",
   "execution_count": 7,
   "id": "5b85dd22",
   "metadata": {},
   "outputs": [],
   "source": [
    "stock_data['5d_future_close'] = stock_data['Adj Close'].shift(-5)\n",
    "stock_data['5d_close_future_pct'] = stock_data['5d_future_close'].pct_change(5)"
   ]
  },
  {
   "cell_type": "code",
   "execution_count": 14,
   "id": "9408003f",
   "metadata": {},
   "outputs": [
    {
     "data": {
      "text/html": [
       "<div>\n",
       "<style scoped>\n",
       "    .dataframe tbody tr th:only-of-type {\n",
       "        vertical-align: middle;\n",
       "    }\n",
       "\n",
       "    .dataframe tbody tr th {\n",
       "        vertical-align: top;\n",
       "    }\n",
       "\n",
       "    .dataframe thead th {\n",
       "        text-align: right;\n",
       "    }\n",
       "</style>\n",
       "<table border=\"1\" class=\"dataframe\">\n",
       "  <thead>\n",
       "    <tr style=\"text-align: right;\">\n",
       "      <th></th>\n",
       "      <th>Open</th>\n",
       "      <th>High</th>\n",
       "      <th>Low</th>\n",
       "      <th>Close</th>\n",
       "      <th>Adj Close</th>\n",
       "      <th>Volume</th>\n",
       "      <th>ma14</th>\n",
       "      <th>rsi14</th>\n",
       "      <th>ma30</th>\n",
       "      <th>rsi30</th>\n",
       "      <th>ma50</th>\n",
       "      <th>rsi50</th>\n",
       "      <th>ma200</th>\n",
       "      <th>rsi200</th>\n",
       "      <th>Volume_1d_change</th>\n",
       "      <th>5d_future_close</th>\n",
       "      <th>5d_close_future_pct</th>\n",
       "    </tr>\n",
       "    <tr>\n",
       "      <th>Date</th>\n",
       "      <th></th>\n",
       "      <th></th>\n",
       "      <th></th>\n",
       "      <th></th>\n",
       "      <th></th>\n",
       "      <th></th>\n",
       "      <th></th>\n",
       "      <th></th>\n",
       "      <th></th>\n",
       "      <th></th>\n",
       "      <th></th>\n",
       "      <th></th>\n",
       "      <th></th>\n",
       "      <th></th>\n",
       "      <th></th>\n",
       "      <th></th>\n",
       "      <th></th>\n",
       "    </tr>\n",
       "  </thead>\n",
       "  <tbody>\n",
       "    <tr>\n",
       "      <th>2016-10-18</th>\n",
       "      <td>814.210022</td>\n",
       "      <td>828.809998</td>\n",
       "      <td>813.330017</td>\n",
       "      <td>821.489990</td>\n",
       "      <td>821.489990</td>\n",
       "      <td>2289300</td>\n",
       "      <td>806.243574</td>\n",
       "      <td>62.410490</td>\n",
       "      <td>803.949003</td>\n",
       "      <td>59.383942</td>\n",
       "      <td>802.204001</td>\n",
       "      <td>57.346334</td>\n",
       "      <td>754.359951</td>\n",
       "      <td>52.295207</td>\n",
       "      <td>1.167077</td>\n",
       "      <td>828.549988</td>\n",
       "      <td>0.008594</td>\n",
       "    </tr>\n",
       "    <tr>\n",
       "      <th>2016-10-19</th>\n",
       "      <td>822.880005</td>\n",
       "      <td>829.799988</td>\n",
       "      <td>822.880005</td>\n",
       "      <td>826.840027</td>\n",
       "      <td>826.840027</td>\n",
       "      <td>1500100</td>\n",
       "      <td>807.972146</td>\n",
       "      <td>65.148070</td>\n",
       "      <td>804.577338</td>\n",
       "      <td>60.791305</td>\n",
       "      <td>802.591202</td>\n",
       "      <td>58.185180</td>\n",
       "      <td>754.686501</td>\n",
       "      <td>52.484215</td>\n",
       "      <td>-0.344734</td>\n",
       "      <td>822.099976</td>\n",
       "      <td>-0.005733</td>\n",
       "    </tr>\n",
       "    <tr>\n",
       "      <th>2016-10-20</th>\n",
       "      <td>827.559998</td>\n",
       "      <td>828.469971</td>\n",
       "      <td>820.549988</td>\n",
       "      <td>821.630005</td>\n",
       "      <td>821.630005</td>\n",
       "      <td>1393900</td>\n",
       "      <td>809.227147</td>\n",
       "      <td>60.525277</td>\n",
       "      <td>805.203670</td>\n",
       "      <td>58.740830</td>\n",
       "      <td>802.854003</td>\n",
       "      <td>57.069885</td>\n",
       "      <td>754.998000</td>\n",
       "      <td>52.281481</td>\n",
       "      <td>-0.070795</td>\n",
       "      <td>817.349976</td>\n",
       "      <td>-0.005209</td>\n",
       "    </tr>\n",
       "    <tr>\n",
       "      <th>2016-10-21</th>\n",
       "      <td>820.000000</td>\n",
       "      <td>824.289978</td>\n",
       "      <td>818.309998</td>\n",
       "      <td>824.059998</td>\n",
       "      <td>824.059998</td>\n",
       "      <td>1615800</td>\n",
       "      <td>810.918575</td>\n",
       "      <td>61.883787</td>\n",
       "      <td>806.389671</td>\n",
       "      <td>59.401540</td>\n",
       "      <td>803.171202</td>\n",
       "      <td>57.457977</td>\n",
       "      <td>755.413300</td>\n",
       "      <td>52.367728</td>\n",
       "      <td>0.159194</td>\n",
       "      <td>819.559998</td>\n",
       "      <td>-0.005461</td>\n",
       "    </tr>\n",
       "    <tr>\n",
       "      <th>2016-10-24</th>\n",
       "      <td>830.090027</td>\n",
       "      <td>837.940002</td>\n",
       "      <td>829.039978</td>\n",
       "      <td>835.739990</td>\n",
       "      <td>835.739990</td>\n",
       "      <td>1447600</td>\n",
       "      <td>813.272147</td>\n",
       "      <td>67.647178</td>\n",
       "      <td>807.620337</td>\n",
       "      <td>62.395790</td>\n",
       "      <td>803.745002</td>\n",
       "      <td>59.264157</td>\n",
       "      <td>755.937451</td>\n",
       "      <td>52.780011</td>\n",
       "      <td>-0.104097</td>\n",
       "      <td>809.900024</td>\n",
       "      <td>-0.030919</td>\n",
       "    </tr>\n",
       "  </tbody>\n",
       "</table>\n",
       "</div>"
      ],
      "text/plain": [
       "                  Open        High         Low       Close   Adj Close  \\\n",
       "Date                                                                     \n",
       "2016-10-18  814.210022  828.809998  813.330017  821.489990  821.489990   \n",
       "2016-10-19  822.880005  829.799988  822.880005  826.840027  826.840027   \n",
       "2016-10-20  827.559998  828.469971  820.549988  821.630005  821.630005   \n",
       "2016-10-21  820.000000  824.289978  818.309998  824.059998  824.059998   \n",
       "2016-10-24  830.090027  837.940002  829.039978  835.739990  835.739990   \n",
       "\n",
       "             Volume        ma14      rsi14        ma30      rsi30        ma50  \\\n",
       "Date                                                                            \n",
       "2016-10-18  2289300  806.243574  62.410490  803.949003  59.383942  802.204001   \n",
       "2016-10-19  1500100  807.972146  65.148070  804.577338  60.791305  802.591202   \n",
       "2016-10-20  1393900  809.227147  60.525277  805.203670  58.740830  802.854003   \n",
       "2016-10-21  1615800  810.918575  61.883787  806.389671  59.401540  803.171202   \n",
       "2016-10-24  1447600  813.272147  67.647178  807.620337  62.395790  803.745002   \n",
       "\n",
       "                rsi50       ma200     rsi200  Volume_1d_change  \\\n",
       "Date                                                             \n",
       "2016-10-18  57.346334  754.359951  52.295207          1.167077   \n",
       "2016-10-19  58.185180  754.686501  52.484215         -0.344734   \n",
       "2016-10-20  57.069885  754.998000  52.281481         -0.070795   \n",
       "2016-10-21  57.457977  755.413300  52.367728          0.159194   \n",
       "2016-10-24  59.264157  755.937451  52.780011         -0.104097   \n",
       "\n",
       "            5d_future_close  5d_close_future_pct  \n",
       "Date                                              \n",
       "2016-10-18       828.549988             0.008594  \n",
       "2016-10-19       822.099976            -0.005733  \n",
       "2016-10-20       817.349976            -0.005209  \n",
       "2016-10-21       819.559998            -0.005461  \n",
       "2016-10-24       809.900024            -0.030919  "
      ]
     },
     "execution_count": 14,
     "metadata": {},
     "output_type": "execute_result"
    }
   ],
   "source": [
    "stock_data.head()"
   ]
  },
  {
   "cell_type": "code",
   "execution_count": 8,
   "id": "1f5494a4",
   "metadata": {},
   "outputs": [],
   "source": [
    "stock_data.dropna(inplace=True)\n",
    "\n",
    "X = stock_data[feature_names]\n",
    "y = stock_data['5d_close_future_pct']\n",
    "\n",
    "train_size = int(0.85 * y.shape[0])\n",
    "X_train = X[:train_size]\n",
    "y_train = y[:train_size]\n",
    "X_test = X[train_size:]\n",
    "y_test = y[train_size:]"
   ]
  },
  {
   "cell_type": "code",
   "execution_count": 10,
   "id": "70269dcb",
   "metadata": {},
   "outputs": [
    {
     "name": "stdout",
     "output_type": "stream",
     "text": [
      "0.0270902388930232 {'random_state': 42, 'n_estimators': 200, 'max_features': 4, 'max_depth': 3}\n"
     ]
    }
   ],
   "source": [
    "grid = {'n_estimators': [200], 'max_depth': [3], 'max_features': [4, 8], 'random_state': [42]}\n",
    "test_scores = []\n",
    "\n",
    "rf_model = RandomForestRegressor()\n",
    "\n",
    "for g in ParameterGrid(grid):\n",
    "    rf_model.set_params(**g) \n",
    "    rf_model.fit(X_train, y_train)\n",
    "    test_scores.append(rf_model.score(X_test, y_test))\n",
    "\n",
    "best_index = np.argmax(test_scores)\n",
    "print(test_scores[best_index], ParameterGrid(grid)[best_index])"
   ]
  },
  {
   "cell_type": "code",
   "execution_count": 62,
   "id": "d69b3664",
   "metadata": {},
   "outputs": [
    {
     "data": {
      "image/png": "[encoded data removed]",
      "text/plain": [
       "<Figure size 432x288 with 1 Axes>"
      ]
     },
     "metadata": {
      "needs_background": "light"
     },
     "output_type": "display_data"
    }
   ],
   "source": [
    "rf_model = RandomForestRegressor(n_estimators=200, max_depth=3, max_features=4, random_state=42)\n",
    "rf_model.fit(X_train, y_train)\n",
    "\n",
    "y_pred = rf_model.predict(X_test)\n",
    "\n",
    "y_pred_series = pd.Series(y_pred, index=y_test.index)\n",
    "y_pred_series.plot()\n",
    "plt.ylabel(\"Predicted 5 Day Close Price Change Percent\")\n",
    "plt.show()"
   ]
  },
  {
   "cell_type": "code",
   "execution_count": 12,
   "id": "7992822d",
   "metadata": {},
   "outputs": [
    {
     "name": "stdout",
     "output_type": "stream",
     "text": [
      "Mean Absolute Error: 0.03131461182177225\n",
      "Mean Squared Error: 0.0017425011780125114\n",
      "Root Mean Squared Error: 0.04174327703969241\n"
     ]
    }
   ],
   "source": [
    "print('Mean Absolute Error:', metrics.mean_absolute_error(y_test, y_pred))\n",
    "print('Mean Squared Error:', metrics.mean_squared_error(y_test, y_pred))\n",
    "print('Root Mean Squared Error:', np.sqrt(metrics.mean_squared_error(y_test, y_pred)))"
   ]
  },
  {
   "cell_type": "code",
   "execution_count": 13,
   "id": "c86edea5",
   "metadata": {},
   "outputs": [
    {
     "data": {
      "image/png": "[encoded data removed]",
      "text/plain": [
       "<Figure size 432x288 with 1 Axes>"
      ]
     },
     "metadata": {
      "needs_background": "light"
     },
     "output_type": "display_data"
    }
   ],
   "source": [
    "importances = rf_model.feature_importances_\n",
    "sorted_index = np.argsort(importances)[::-1]\n",
    "x_values = range(len(importances))\n",
    "labels = np.array(feature_names)[sorted_index]\n",
    "plt.bar(x_values, importances[sorted_index], tick_label=labels)\n",
    "plt.xticks(rotation=90)\n",
    "plt.show()"
   ]
  }
 ],
 "metadata": {
  "kernelspec": {
   "display_name": "Python 3",
   "language": "python",
   "name": "python3"
  },
  "language_info": {
   "codemirror_mode": {
    "name": "ipython",
    "version": 3
   },
   "file_extension": ".py",
   "mimetype": "text/x-python",
   "name": "python",
   "nbconvert_exporter": "python",
   "pygments_lexer": "ipython3",
   "version": "3.8.5"
  }
 },
 "nbformat": 4,
 "nbformat_minor": 5
}
